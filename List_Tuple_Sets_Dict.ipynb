{
  "nbformat": 4,
  "nbformat_minor": 0,
  "metadata": {
    "colab": {
      "name": "Untitled1.ipynb",
      "provenance": [],
      "authorship_tag": "ABX9TyN0gXdMsGSkKv5Dthnx51Yb",
      "include_colab_link": true
    },
    "kernelspec": {
      "name": "python3",
      "display_name": "Python 3"
    },
    "language_info": {
      "name": "python"
    }
  },
  "cells": [
    {
      "cell_type": "markdown",
      "metadata": {
        "id": "view-in-github",
        "colab_type": "text"
      },
      "source": [
        "<a href=\"https://colab.research.google.com/github/ShivaniMakvana/Python/blob/main/List_Tuple_Sets_Dict.ipynb\" target=\"_parent\"><img src=\"https://colab.research.google.com/assets/colab-badge.svg\" alt=\"Open In Colab\"/></a>"
      ]
    },
    {
      "cell_type": "markdown",
      "metadata": {
        "id": "PRnp-hk6TuGn"
      },
      "source": [
        "# **List**"
      ]
    },
    {
      "cell_type": "code",
      "metadata": {
        "id": "Z2FFq2nsTxRq"
      },
      "source": [
        "subjects = ['History', 'Math', 'Physics', 'CS']"
      ],
      "execution_count": 1,
      "outputs": []
    },
    {
      "cell_type": "code",
      "metadata": {
        "colab": {
          "base_uri": "https://localhost:8080/"
        },
        "id": "9M8f0wsoT0Ov",
        "outputId": "f38c9e45-edbb-4edb-d0f0-dbf4484cda57"
      },
      "source": [
        "print(subjects) \n",
        "#Prints all the elements of the list"
      ],
      "execution_count": 2,
      "outputs": [
        {
          "output_type": "stream",
          "text": [
            "['History', 'Math', 'Physics', 'CS']\n"
          ],
          "name": "stdout"
        }
      ]
    },
    {
      "cell_type": "code",
      "metadata": {
        "colab": {
          "base_uri": "https://localhost:8080/"
        },
        "id": "UuQkwEFaT3pu",
        "outputId": "4a5bd7ce-9eb2-4ff8-e690-e4d29786d856"
      },
      "source": [
        "print(len(subjects))\n",
        "#Prints number of elements in list"
      ],
      "execution_count": 3,
      "outputs": [
        {
          "output_type": "stream",
          "text": [
            "4\n"
          ],
          "name": "stdout"
        }
      ]
    },
    {
      "cell_type": "code",
      "metadata": {
        "colab": {
          "base_uri": "https://localhost:8080/"
        },
        "id": "gUtYrGfrT7tf",
        "outputId": "a0f5bfd8-adef-40d5-8722-0ab3c2a1ae59"
      },
      "source": [
        "print(subjects[0])\n",
        "#Prints the 1st element (History)"
      ],
      "execution_count": 4,
      "outputs": [
        {
          "output_type": "stream",
          "text": [
            "History\n"
          ],
          "name": "stdout"
        }
      ]
    },
    {
      "cell_type": "code",
      "metadata": {
        "colab": {
          "base_uri": "https://localhost:8080/"
        },
        "id": "2B3ivmDPUBUr",
        "outputId": "31f3dc40-f40a-4c3a-dee0-4c0b73080293"
      },
      "source": [
        "print(subjects[-1])\n",
        "#Prints the last element (History)"
      ],
      "execution_count": 5,
      "outputs": [
        {
          "output_type": "stream",
          "text": [
            "CS\n"
          ],
          "name": "stdout"
        }
      ]
    },
    {
      "cell_type": "code",
      "metadata": {
        "colab": {
          "base_uri": "https://localhost:8080/"
        },
        "id": "7EqcA8lSUFhH",
        "outputId": "cb1656f4-32f6-4b4f-a1aa-feae51451e0e"
      },
      "source": [
        "print(subjects[:2])\n",
        "#Prints the 1st & 2nd element (History)\n",
        "print(subjects[:2])"
      ],
      "execution_count": 6,
      "outputs": [
        {
          "output_type": "stream",
          "text": [
            "['History', 'Math']\n",
            "['History', 'Math']\n"
          ],
          "name": "stdout"
        }
      ]
    },
    {
      "cell_type": "code",
      "metadata": {
        "colab": {
          "base_uri": "https://localhost:8080/"
        },
        "id": "ZUumPUmwULEo",
        "outputId": "c253d878-df0a-4450-b4cb-3ee03e1392c2"
      },
      "source": [
        "subjects.append('DS')\n",
        "#Adds the item at the end of the list\n",
        "print(subjects)"
      ],
      "execution_count": 7,
      "outputs": [
        {
          "output_type": "stream",
          "text": [
            "['History', 'Math', 'Physics', 'CS', 'DS']\n"
          ],
          "name": "stdout"
        }
      ]
    },
    {
      "cell_type": "code",
      "metadata": {
        "colab": {
          "base_uri": "https://localhost:8080/"
        },
        "id": "eNl6e59IUS4N",
        "outputId": "fabddf65-76ab-4207-e957-61a847123469"
      },
      "source": [
        "subjects.insert(0,'DBMS')\n",
        "#Adds the item at index 0\n",
        "print(subjects)"
      ],
      "execution_count": 8,
      "outputs": [
        {
          "output_type": "stream",
          "text": [
            "['DBMS', 'History', 'Math', 'Physics', 'CS', 'DS']\n"
          ],
          "name": "stdout"
        }
      ]
    },
    {
      "cell_type": "code",
      "metadata": {
        "id": "au9lQhvcUVIM"
      },
      "source": [
        "subjects_2 = ['Art', 'Design', 'Chemistry']"
      ],
      "execution_count": 9,
      "outputs": []
    },
    {
      "cell_type": "code",
      "metadata": {
        "id": "wAo9yNtRUc5G"
      },
      "source": [
        "#subjects.insert(0,subjects_2)\n",
        "#print(subjects)\n",
        "#Let's try to add elements of subject_2 to subjects\n",
        "#it got added as a seperate list in element 0, rather than splitting the items in subject_2 then adding them"
      ],
      "execution_count": 10,
      "outputs": []
    },
    {
      "cell_type": "code",
      "metadata": {
        "colab": {
          "base_uri": "https://localhost:8080/"
        },
        "id": "PuZ6SqOsUg0w",
        "outputId": "0ad3b7e8-4825-46d2-eabb-6f08fae36601"
      },
      "source": [
        "subjects.extend(subjects_2)\n",
        "print(subjects)\n",
        "#Adds each element seperately to subject_2 at the end of the list"
      ],
      "execution_count": 11,
      "outputs": [
        {
          "output_type": "stream",
          "text": [
            "['DBMS', 'History', 'Math', 'Physics', 'CS', 'DS', 'Art', 'Design', 'Chemistry']\n"
          ],
          "name": "stdout"
        }
      ]
    },
    {
      "cell_type": "code",
      "metadata": {
        "colab": {
          "base_uri": "https://localhost:8080/"
        },
        "id": "579Pe_-hUkmu",
        "outputId": "a6d2acf3-012d-4b6c-97cc-732347219311"
      },
      "source": [
        "subjects.remove('Math')\n",
        "#Finds & Removes Math from the list\n",
        "print(subjects)"
      ],
      "execution_count": 12,
      "outputs": [
        {
          "output_type": "stream",
          "text": [
            "['DBMS', 'History', 'Physics', 'CS', 'DS', 'Art', 'Design', 'Chemistry']\n"
          ],
          "name": "stdout"
        }
      ]
    },
    {
      "cell_type": "code",
      "metadata": {
        "colab": {
          "base_uri": "https://localhost:8080/"
        },
        "id": "S1j9Q-t-UoPw",
        "outputId": "bb57d2d4-50c0-47c4-9334-f4253ed6f2e8"
      },
      "source": [
        "popped = subjects.pop()\n",
        "#Removes the last item in the list\n",
        "\n",
        "print(subjects)\n",
        "\n",
        "print(popped)\n",
        "#Grabs the popped item"
      ],
      "execution_count": 13,
      "outputs": [
        {
          "output_type": "stream",
          "text": [
            "['DBMS', 'History', 'Physics', 'CS', 'DS', 'Art', 'Design']\n",
            "Chemistry\n"
          ],
          "name": "stdout"
        }
      ]
    },
    {
      "cell_type": "code",
      "metadata": {
        "colab": {
          "base_uri": "https://localhost:8080/"
        },
        "id": "JPmJ7ClkUrdt",
        "outputId": "4f96a3aa-a9d9-481c-8c8c-0410280e32d7"
      },
      "source": [
        "subjects.reverse()\n",
        "#Reverses the list\n",
        "print(subjects)"
      ],
      "execution_count": 14,
      "outputs": [
        {
          "output_type": "stream",
          "text": [
            "['Design', 'Art', 'DS', 'CS', 'Physics', 'History', 'DBMS']\n"
          ],
          "name": "stdout"
        }
      ]
    },
    {
      "cell_type": "code",
      "metadata": {
        "colab": {
          "base_uri": "https://localhost:8080/"
        },
        "id": "CC1Mv5bhUv8o",
        "outputId": "496a5444-afba-46f3-f5a2-d56a97f55a37"
      },
      "source": [
        "subjects.sort()\n",
        "#Sorts the list in alphabetical order\n",
        "print(subjects)\n",
        "\n",
        "num_list = [2,6,4,5,3,1]\n",
        "num_list.sort()\n",
        "print(num_list)"
      ],
      "execution_count": 15,
      "outputs": [
        {
          "output_type": "stream",
          "text": [
            "['Art', 'CS', 'DBMS', 'DS', 'Design', 'History', 'Physics']\n",
            "[1, 2, 3, 4, 5, 6]\n"
          ],
          "name": "stdout"
        }
      ]
    },
    {
      "cell_type": "code",
      "metadata": {
        "colab": {
          "base_uri": "https://localhost:8080/"
        },
        "id": "GV6ffp5eU0Zm",
        "outputId": "1835463f-d9d3-490b-dfc4-0a883c379338"
      },
      "source": [
        "print(min(num_list))\n",
        "print(max(num_list))\n",
        "print(sum(num_list))"
      ],
      "execution_count": 16,
      "outputs": [
        {
          "output_type": "stream",
          "text": [
            "1\n",
            "6\n",
            "21\n"
          ],
          "name": "stdout"
        }
      ]
    },
    {
      "cell_type": "code",
      "metadata": {
        "colab": {
          "base_uri": "https://localhost:8080/"
        },
        "id": "vreYP8ptU4h1",
        "outputId": "44a500ba-50e9-4f9c-83a0-b194bc486484"
      },
      "source": [
        "print(subjects.index('CS'))\n",
        "#Returns the index value of the item"
      ],
      "execution_count": 17,
      "outputs": [
        {
          "output_type": "stream",
          "text": [
            "1\n"
          ],
          "name": "stdout"
        }
      ]
    },
    {
      "cell_type": "code",
      "metadata": {
        "colab": {
          "base_uri": "https://localhost:8080/"
        },
        "id": "oHpf62_4U9Pr",
        "outputId": "ce4ee387-8b42-4efa-b13c-e3f95e6fa4d9"
      },
      "source": [
        "print('Art' in subjects)\n",
        "#Checks weather the item is present in the list or not"
      ],
      "execution_count": 18,
      "outputs": [
        {
          "output_type": "stream",
          "text": [
            "True\n"
          ],
          "name": "stdout"
        }
      ]
    },
    {
      "cell_type": "code",
      "metadata": {
        "colab": {
          "base_uri": "https://localhost:8080/"
        },
        "id": "enHhxmDkVCBS",
        "outputId": "4a32e81d-e5e2-4bcf-ea67-237a74a0b289"
      },
      "source": [
        "for item in subjects:\n",
        "    print(item)\n",
        "#Prints each item in new line"
      ],
      "execution_count": 19,
      "outputs": [
        {
          "output_type": "stream",
          "text": [
            "Art\n",
            "CS\n",
            "DBMS\n",
            "DS\n",
            "Design\n",
            "History\n",
            "Physics\n"
          ],
          "name": "stdout"
        }
      ]
    },
    {
      "cell_type": "code",
      "metadata": {
        "colab": {
          "base_uri": "https://localhost:8080/"
        },
        "id": "_XnKz6IsVG-Q",
        "outputId": "5103a928-f032-4dc6-d290-b53d09ec854c"
      },
      "source": [
        "for index,subject in enumerate(subjects):\n",
        "    print(index,subject)\n",
        "#Print the items along with index numbers starting from 0. this is done by enumerate() function"
      ],
      "execution_count": 20,
      "outputs": [
        {
          "output_type": "stream",
          "text": [
            "0 Art\n",
            "1 CS\n",
            "2 DBMS\n",
            "3 DS\n",
            "4 Design\n",
            "5 History\n",
            "6 Physics\n"
          ],
          "name": "stdout"
        }
      ]
    },
    {
      "cell_type": "code",
      "metadata": {
        "colab": {
          "base_uri": "https://localhost:8080/"
        },
        "id": "bPSSyFMWVQDF",
        "outputId": "02d7bd1c-df9a-4914-8484-9ac673c0e0a5"
      },
      "source": [
        "for index,subject in enumerate(subjects,start=1):\n",
        "    print(index, subject)\n",
        "#Print the items along with index numbers starting from 1. this is done by enumerate() function"
      ],
      "execution_count": 21,
      "outputs": [
        {
          "output_type": "stream",
          "text": [
            "1 Art\n",
            "2 CS\n",
            "3 DBMS\n",
            "4 DS\n",
            "5 Design\n",
            "6 History\n",
            "7 Physics\n"
          ],
          "name": "stdout"
        }
      ]
    },
    {
      "cell_type": "code",
      "metadata": {
        "colab": {
          "base_uri": "https://localhost:8080/"
        },
        "id": "I1sElAVwVV0S",
        "outputId": "7b998559-4ced-46c5-835c-25b1956fc95a"
      },
      "source": [
        "subject_str = ' - '.join(subjects)\n",
        "print(subject_str)\n",
        "#turns list into '-' seperated string"
      ],
      "execution_count": 22,
      "outputs": [
        {
          "output_type": "stream",
          "text": [
            "Art - CS - DBMS - DS - Design - History - Physics\n"
          ],
          "name": "stdout"
        }
      ]
    },
    {
      "cell_type": "code",
      "metadata": {
        "colab": {
          "base_uri": "https://localhost:8080/"
        },
        "id": "b7RDd-AaVfsg",
        "outputId": "9d2a8a96-7698-40e6-9f84-e203c61d42d9"
      },
      "source": [
        "new_list = subject_str.split('-')\n",
        "print(new_list)\n",
        "#Creates the list, just reverse of .join()"
      ],
      "execution_count": 23,
      "outputs": [
        {
          "output_type": "stream",
          "text": [
            "['Art ', ' CS ', ' DBMS ', ' DS ', ' Design ', ' History ', ' Physics']\n"
          ],
          "name": "stdout"
        }
      ]
    },
    {
      "cell_type": "markdown",
      "metadata": {
        "id": "_3rOLiumVkXr"
      },
      "source": [
        "# **Tuple:**\n",
        "Doesn't have much supported functions as of list because tuple is immutable "
      ]
    },
    {
      "cell_type": "code",
      "metadata": {
        "id": "l7QQUxzTVu0G"
      },
      "source": [
        "tup_1 = ('History', 'Math', 'Physics', 'CS')"
      ],
      "execution_count": 24,
      "outputs": []
    },
    {
      "cell_type": "code",
      "metadata": {
        "colab": {
          "base_uri": "https://localhost:8080/",
          "height": 171
        },
        "id": "QF_RgecXVyj5",
        "outputId": "52e4d0f1-c8dd-41aa-d31a-b6c8c543413a"
      },
      "source": [
        "tup_1[0] = 'Art'"
      ],
      "execution_count": 25,
      "outputs": [
        {
          "output_type": "error",
          "ename": "TypeError",
          "evalue": "ignored",
          "traceback": [
            "\u001b[0;31m---------------------------------------------------------------------------\u001b[0m",
            "\u001b[0;31mTypeError\u001b[0m                                 Traceback (most recent call last)",
            "\u001b[0;32m<ipython-input-25-20f41ff68d0f>\u001b[0m in \u001b[0;36m<module>\u001b[0;34m()\u001b[0m\n\u001b[0;32m----> 1\u001b[0;31m \u001b[0mtup_1\u001b[0m\u001b[0;34m[\u001b[0m\u001b[0;36m0\u001b[0m\u001b[0;34m]\u001b[0m \u001b[0;34m=\u001b[0m \u001b[0;34m'Art'\u001b[0m\u001b[0;34m\u001b[0m\u001b[0;34m\u001b[0m\u001b[0m\n\u001b[0m",
            "\u001b[0;31mTypeError\u001b[0m: 'tuple' object does not support item assignment"
          ]
        }
      ]
    },
    {
      "cell_type": "code",
      "metadata": {
        "colab": {
          "base_uri": "https://localhost:8080/"
        },
        "id": "oYyzTTG6V1Em",
        "outputId": "2236294f-3058-42a4-ae8d-a3d92724ab0b"
      },
      "source": [
        "print(tup_1)"
      ],
      "execution_count": 26,
      "outputs": [
        {
          "output_type": "stream",
          "text": [
            "('History', 'Math', 'Physics', 'CS')\n"
          ],
          "name": "stdout"
        }
      ]
    },
    {
      "cell_type": "code",
      "metadata": {
        "id": "B1YAi36iWAW3"
      },
      "source": [
        "#Only supports that functions that doesn't mutate the list"
      ],
      "execution_count": 27,
      "outputs": []
    },
    {
      "cell_type": "markdown",
      "metadata": {
        "id": "_S4jx8R-WFD3"
      },
      "source": [
        "# **SETS:**\n",
        "Doesn't care about order & dumps away duplicate item "
      ]
    },
    {
      "cell_type": "code",
      "metadata": {
        "id": "oN5cvxf8WaM0"
      },
      "source": [
        "cs_courses = {'DS','DBMS','History','Math','Physics'}"
      ],
      "execution_count": 28,
      "outputs": []
    },
    {
      "cell_type": "code",
      "metadata": {
        "id": "337Lm1RRWis4"
      },
      "source": [
        "#Changes order every time the code executes"
      ],
      "execution_count": 29,
      "outputs": []
    },
    {
      "cell_type": "code",
      "metadata": {
        "colab": {
          "base_uri": "https://localhost:8080/"
        },
        "id": "N970cGQ9WmPm",
        "outputId": "4e7095fa-b615-4e24-d7f4-296b23db497c"
      },
      "source": [
        "print('Math' in cs_courses)\n",
        "#Checks membership in the set"
      ],
      "execution_count": 30,
      "outputs": [
        {
          "output_type": "stream",
          "text": [
            "True\n"
          ],
          "name": "stdout"
        }
      ]
    },
    {
      "cell_type": "code",
      "metadata": {
        "id": "FkZLb5XtWsD4"
      },
      "source": [
        "art_courses = {'History','Math','Art','Design'}"
      ],
      "execution_count": 31,
      "outputs": []
    },
    {
      "cell_type": "code",
      "metadata": {
        "colab": {
          "base_uri": "https://localhost:8080/"
        },
        "id": "KBq57zMJW1Kg",
        "outputId": "7b3f26a5-809f-492b-a586-617041a28057"
      },
      "source": [
        "print(cs_courses.intersection(art_courses))\n",
        "#Returns common items in both sets"
      ],
      "execution_count": 32,
      "outputs": [
        {
          "output_type": "stream",
          "text": [
            "{'History', 'Math'}\n"
          ],
          "name": "stdout"
        }
      ]
    },
    {
      "cell_type": "code",
      "metadata": {
        "colab": {
          "base_uri": "https://localhost:8080/"
        },
        "id": "Ztt8RfmVW6K5",
        "outputId": "fe91b0ca-06eb-4b37-a3f8-9ce6425abfe4"
      },
      "source": [
        "print(cs_courses.difference(art_courses))\n",
        "\n",
        "#Returns the items not present in second set"
      ],
      "execution_count": 33,
      "outputs": [
        {
          "output_type": "stream",
          "text": [
            "{'DS', 'DBMS', 'Physics'}\n"
          ],
          "name": "stdout"
        }
      ]
    },
    {
      "cell_type": "code",
      "metadata": {
        "colab": {
          "base_uri": "https://localhost:8080/"
        },
        "id": "5BVcLQQMXAF1",
        "outputId": "5a18019d-1a9d-4640-99ae-9b353f7bf39e"
      },
      "source": [
        "print(cs_courses.union(art_courses))\n",
        "\n",
        "#Prints all the items from both sets dropping the duplicate items in a new set"
      ],
      "execution_count": 34,
      "outputs": [
        {
          "output_type": "stream",
          "text": [
            "{'DS', 'Math', 'History', 'Physics', 'Art', 'Design', 'DBMS'}\n"
          ],
          "name": "stdout"
        }
      ]
    },
    {
      "cell_type": "code",
      "metadata": {
        "id": "bKIp_ghLXH7h"
      },
      "source": [
        "#Empty List\n",
        "empty_list = []\n",
        "empty_list = list()"
      ],
      "execution_count": 35,
      "outputs": []
    },
    {
      "cell_type": "code",
      "metadata": {
        "id": "reaLHzNOXO3M"
      },
      "source": [
        "#Empty Tuples\n",
        "empty_tuple = ()\n",
        "empty_tuple = tuple()"
      ],
      "execution_count": null,
      "outputs": []
    },
    {
      "cell_type": "code",
      "metadata": {
        "id": "8imAHbMMXUj_"
      },
      "source": [
        "#Empty sets\n",
        "empty_set = {} #This will create an empty dictionary instead of empty sets\n",
        "empty_set = set()"
      ],
      "execution_count": 36,
      "outputs": []
    },
    {
      "cell_type": "markdown",
      "metadata": {
        "id": "qEysllXfXfVf"
      },
      "source": [
        "# **Dictionary:**\n",
        "**Playing with Key:Value pairs**"
      ]
    },
    {
      "cell_type": "code",
      "metadata": {
        "id": "fZsOsc15XsoZ"
      },
      "source": [
        "student = {'name':'harsh', 'age':25, 'course':['Math','Physics']}"
      ],
      "execution_count": 37,
      "outputs": []
    },
    {
      "cell_type": "code",
      "metadata": {
        "colab": {
          "base_uri": "https://localhost:8080/"
        },
        "id": "TscFAvREXwtK",
        "outputId": "1ef2c8af-44d1-46ff-8845-6ea27b087033"
      },
      "source": [
        "print(student) \n",
        "#prints dictionary with keys & values"
      ],
      "execution_count": 38,
      "outputs": [
        {
          "output_type": "stream",
          "text": [
            "{'name': 'harsh', 'age': 25, 'course': ['Math', 'Physics']}\n"
          ],
          "name": "stdout"
        }
      ]
    },
    {
      "cell_type": "code",
      "metadata": {
        "colab": {
          "base_uri": "https://localhost:8080/"
        },
        "id": "wyh4sTSoX7fG",
        "outputId": "bf18df89-12d8-4acb-f0bc-6f028854bd5a"
      },
      "source": [
        "print(student['name'])\n",
        "#Prints values of specified key & gives error on the absence of the key"
      ],
      "execution_count": 39,
      "outputs": [
        {
          "output_type": "stream",
          "text": [
            "harsh\n"
          ],
          "name": "stdout"
        }
      ]
    },
    {
      "cell_type": "code",
      "metadata": {
        "colab": {
          "base_uri": "https://localhost:8080/"
        },
        "id": "OmC4UuZ1X_j8",
        "outputId": "e9894137-647e-459f-d487-d3fa3c9d7ee1"
      },
      "source": [
        "print(student.get('phone'))\n",
        "#Prints values of specified key & doesn't gives error on the absence of the key"
      ],
      "execution_count": 40,
      "outputs": [
        {
          "output_type": "stream",
          "text": [
            "None\n"
          ],
          "name": "stdout"
        }
      ]
    },
    {
      "cell_type": "code",
      "metadata": {
        "id": "LBASv546YDR_"
      },
      "source": [
        "#Let's add a phone no to our dictionary\n",
        "student['phone'] = '999-9999'"
      ],
      "execution_count": 41,
      "outputs": []
    },
    {
      "cell_type": "code",
      "metadata": {
        "colab": {
          "base_uri": "https://localhost:8080/"
        },
        "id": "xEnnc8tQYH_g",
        "outputId": "dacbc042-8728-41fd-bf78-b28ae0675a9a"
      },
      "source": [
        "student['name'] = 'akshit'\n",
        "print(student)\n",
        "#update a key"
      ],
      "execution_count": 42,
      "outputs": [
        {
          "output_type": "stream",
          "text": [
            "{'name': 'akshit', 'age': 25, 'course': ['Math', 'Physics'], 'phone': '999-9999'}\n"
          ],
          "name": "stdout"
        }
      ]
    },
    {
      "cell_type": "code",
      "metadata": {
        "colab": {
          "base_uri": "https://localhost:8080/"
        },
        "id": "1o-fPgTFYNNk",
        "outputId": "62e2ac8d-d816-43ca-d5b6-28039feffcf0"
      },
      "source": [
        "#Updating various keys in a single line of code\n",
        "\n",
        "student.update({'name':'harsh',\n",
        "               'age': 21,\n",
        "               'phone': '111-1111'})\n",
        "print(student)"
      ],
      "execution_count": 43,
      "outputs": [
        {
          "output_type": "stream",
          "text": [
            "{'name': 'harsh', 'age': 21, 'course': ['Math', 'Physics'], 'phone': '111-1111'}\n"
          ],
          "name": "stdout"
        }
      ]
    },
    {
      "cell_type": "code",
      "metadata": {
        "colab": {
          "base_uri": "https://localhost:8080/"
        },
        "id": "JiJN35dOYTn-",
        "outputId": "bc0407c9-50a6-4b53-b89f-daf12b5492ec"
      },
      "source": [
        "#Prints keys from the dictionary\n",
        "\n",
        "print(student.keys())"
      ],
      "execution_count": 44,
      "outputs": [
        {
          "output_type": "stream",
          "text": [
            "dict_keys(['name', 'age', 'course', 'phone'])\n"
          ],
          "name": "stdout"
        }
      ]
    },
    {
      "cell_type": "code",
      "metadata": {
        "colab": {
          "base_uri": "https://localhost:8080/"
        },
        "id": "UJ210rJ1YXN9",
        "outputId": "ce449df4-6cad-4631-d32c-06ece0788fc7"
      },
      "source": [
        "#Prints valuess from the dictionary\n",
        "\n",
        "print(student.values())"
      ],
      "execution_count": 45,
      "outputs": [
        {
          "output_type": "stream",
          "text": [
            "dict_values(['harsh', 21, ['Math', 'Physics'], '111-1111'])\n"
          ],
          "name": "stdout"
        }
      ]
    },
    {
      "cell_type": "code",
      "metadata": {
        "colab": {
          "base_uri": "https://localhost:8080/"
        },
        "id": "oYW0jkyKYbIF",
        "outputId": "119f900d-c7e2-41db-ab5a-9f3691492f77"
      },
      "source": [
        "#Iterates and prints only keys from the dictionary\n",
        "for key in student:\n",
        "    print(key)"
      ],
      "execution_count": 46,
      "outputs": [
        {
          "output_type": "stream",
          "text": [
            "name\n",
            "age\n",
            "course\n",
            "phone\n"
          ],
          "name": "stdout"
        }
      ]
    }
  ]
}